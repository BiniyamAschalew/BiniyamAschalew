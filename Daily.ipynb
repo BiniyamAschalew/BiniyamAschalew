{
  "nbformat": 4,
  "nbformat_minor": 0,
  "metadata": {
    "colab": {
      "provenance": [],
      "authorship_tag": "ABX9TyNg75qeIVBcOM26Q9le9hD0",
      "include_colab_link": true
    },
    "kernelspec": {
      "name": "python3",
      "display_name": "Python 3"
    },
    "language_info": {
      "name": "python"
    }
  },
  "cells": [
    {
      "cell_type": "markdown",
      "metadata": {
        "id": "view-in-github",
        "colab_type": "text"
      },
      "source": [
        "<a href=\"https://colab.research.google.com/github/BiniyamAschalew/BiniyamAschalew/blob/main/Daily.ipynb\" target=\"_parent\"><img src=\"https://colab.research.google.com/assets/colab-badge.svg\" alt=\"Open In Colab\"/></a>"
      ]
    },
    {
      "cell_type": "code",
      "execution_count": null,
      "metadata": {
        "id": "-WInoLNIMLG7"
      },
      "outputs": [],
      "source": [
        "import numpy as np\n",
        "import pandas as pd\n",
        "import sklearn\n",
        "import matplotlib.pyplot as plt\n",
        "import seaborn as sns"
      ]
    },
    {
      "cell_type": "code",
      "source": [
        "from sklearn.neighbors import KNeighborsClassifier\n",
        "from sklearn.cluster import KMeans\n"
      ],
      "metadata": {
        "id": "b0kDQ_dQN3CR"
      },
      "execution_count": null,
      "outputs": []
    },
    {
      "cell_type": "code",
      "source": [
        "#  naive bayes classifier\n",
        "# adv: robust to non important attributes, robust to outliers, performs not bad\n",
        "# disadv: if the independence assumption doesn't hold\n",
        "# we assume that the likelihood of each attribute is conditionaly independent of each other\n",
        "\n",
        "df1 = pd.DataFrame()\n",
        "df1['height'] = np.random.rand(10) * 4 + 6\n",
        "df1['weight'] = np.random.rand(10) * 30 + 120\n",
        "df1"
      ],
      "metadata": {
        "colab": {
          "base_uri": "https://localhost:8080/",
          "height": 363
        },
        "id": "DLGTWNwTMgh8",
        "outputId": "9f026fc3-461d-4112-e550-88576c3fd3fe"
      },
      "execution_count": null,
      "outputs": [
        {
          "output_type": "execute_result",
          "data": {
            "text/plain": [
              "     height      weight\n",
              "0  6.690834  149.889985\n",
              "1  7.406418  147.387304\n",
              "2  7.228214  135.519026\n",
              "3  6.961105  140.378886\n",
              "4  8.733656  140.351608\n",
              "5  7.246813  121.086170\n",
              "6  6.885542  137.414816\n",
              "7  9.718342  125.093130\n",
              "8  9.360999  127.206102\n",
              "9  6.700385  149.009868"
            ],
            "text/html": [
              "\n",
              "\n",
              "  <div id=\"df-83849ed1-5ddd-4426-a1a6-4fd02d19a597\">\n",
              "    <div class=\"colab-df-container\">\n",
              "      <div>\n",
              "<style scoped>\n",
              "    .dataframe tbody tr th:only-of-type {\n",
              "        vertical-align: middle;\n",
              "    }\n",
              "\n",
              "    .dataframe tbody tr th {\n",
              "        vertical-align: top;\n",
              "    }\n",
              "\n",
              "    .dataframe thead th {\n",
              "        text-align: right;\n",
              "    }\n",
              "</style>\n",
              "<table border=\"1\" class=\"dataframe\">\n",
              "  <thead>\n",
              "    <tr style=\"text-align: right;\">\n",
              "      <th></th>\n",
              "      <th>height</th>\n",
              "      <th>weight</th>\n",
              "    </tr>\n",
              "  </thead>\n",
              "  <tbody>\n",
              "    <tr>\n",
              "      <th>0</th>\n",
              "      <td>6.690834</td>\n",
              "      <td>149.889985</td>\n",
              "    </tr>\n",
              "    <tr>\n",
              "      <th>1</th>\n",
              "      <td>7.406418</td>\n",
              "      <td>147.387304</td>\n",
              "    </tr>\n",
              "    <tr>\n",
              "      <th>2</th>\n",
              "      <td>7.228214</td>\n",
              "      <td>135.519026</td>\n",
              "    </tr>\n",
              "    <tr>\n",
              "      <th>3</th>\n",
              "      <td>6.961105</td>\n",
              "      <td>140.378886</td>\n",
              "    </tr>\n",
              "    <tr>\n",
              "      <th>4</th>\n",
              "      <td>8.733656</td>\n",
              "      <td>140.351608</td>\n",
              "    </tr>\n",
              "    <tr>\n",
              "      <th>5</th>\n",
              "      <td>7.246813</td>\n",
              "      <td>121.086170</td>\n",
              "    </tr>\n",
              "    <tr>\n",
              "      <th>6</th>\n",
              "      <td>6.885542</td>\n",
              "      <td>137.414816</td>\n",
              "    </tr>\n",
              "    <tr>\n",
              "      <th>7</th>\n",
              "      <td>9.718342</td>\n",
              "      <td>125.093130</td>\n",
              "    </tr>\n",
              "    <tr>\n",
              "      <th>8</th>\n",
              "      <td>9.360999</td>\n",
              "      <td>127.206102</td>\n",
              "    </tr>\n",
              "    <tr>\n",
              "      <th>9</th>\n",
              "      <td>6.700385</td>\n",
              "      <td>149.009868</td>\n",
              "    </tr>\n",
              "  </tbody>\n",
              "</table>\n",
              "</div>\n",
              "      <button class=\"colab-df-convert\" onclick=\"convertToInteractive('df-83849ed1-5ddd-4426-a1a6-4fd02d19a597')\"\n",
              "              title=\"Convert this dataframe to an interactive table.\"\n",
              "              style=\"display:none;\">\n",
              "\n",
              "  <svg xmlns=\"http://www.w3.org/2000/svg\" height=\"24px\"viewBox=\"0 0 24 24\"\n",
              "       width=\"24px\">\n",
              "    <path d=\"M0 0h24v24H0V0z\" fill=\"none\"/>\n",
              "    <path d=\"M18.56 5.44l.94 2.06.94-2.06 2.06-.94-2.06-.94-.94-2.06-.94 2.06-2.06.94zm-11 1L8.5 8.5l.94-2.06 2.06-.94-2.06-.94L8.5 2.5l-.94 2.06-2.06.94zm10 10l.94 2.06.94-2.06 2.06-.94-2.06-.94-.94-2.06-.94 2.06-2.06.94z\"/><path d=\"M17.41 7.96l-1.37-1.37c-.4-.4-.92-.59-1.43-.59-.52 0-1.04.2-1.43.59L10.3 9.45l-7.72 7.72c-.78.78-.78 2.05 0 2.83L4 21.41c.39.39.9.59 1.41.59.51 0 1.02-.2 1.41-.59l7.78-7.78 2.81-2.81c.8-.78.8-2.07 0-2.86zM5.41 20L4 18.59l7.72-7.72 1.47 1.35L5.41 20z\"/>\n",
              "  </svg>\n",
              "      </button>\n",
              "\n",
              "\n",
              "\n",
              "    <div id=\"df-64241db0-6044-464e-bc9f-f8317c387703\">\n",
              "      <button class=\"colab-df-quickchart\" onclick=\"quickchart('df-64241db0-6044-464e-bc9f-f8317c387703')\"\n",
              "              title=\"Suggest charts.\"\n",
              "              style=\"display:none;\">\n",
              "\n",
              "<svg xmlns=\"http://www.w3.org/2000/svg\" height=\"24px\"viewBox=\"0 0 24 24\"\n",
              "     width=\"24px\">\n",
              "    <g>\n",
              "        <path d=\"M19 3H5c-1.1 0-2 .9-2 2v14c0 1.1.9 2 2 2h14c1.1 0 2-.9 2-2V5c0-1.1-.9-2-2-2zM9 17H7v-7h2v7zm4 0h-2V7h2v10zm4 0h-2v-4h2v4z\"/>\n",
              "    </g>\n",
              "</svg>\n",
              "      </button>\n",
              "    </div>\n",
              "\n",
              "<style>\n",
              "  .colab-df-quickchart {\n",
              "    background-color: #E8F0FE;\n",
              "    border: none;\n",
              "    border-radius: 50%;\n",
              "    cursor: pointer;\n",
              "    display: none;\n",
              "    fill: #1967D2;\n",
              "    height: 32px;\n",
              "    padding: 0 0 0 0;\n",
              "    width: 32px;\n",
              "  }\n",
              "\n",
              "  .colab-df-quickchart:hover {\n",
              "    background-color: #E2EBFA;\n",
              "    box-shadow: 0px 1px 2px rgba(60, 64, 67, 0.3), 0px 1px 3px 1px rgba(60, 64, 67, 0.15);\n",
              "    fill: #174EA6;\n",
              "  }\n",
              "\n",
              "  [theme=dark] .colab-df-quickchart {\n",
              "    background-color: #3B4455;\n",
              "    fill: #D2E3FC;\n",
              "  }\n",
              "\n",
              "  [theme=dark] .colab-df-quickchart:hover {\n",
              "    background-color: #434B5C;\n",
              "    box-shadow: 0px 1px 3px 1px rgba(0, 0, 0, 0.15);\n",
              "    filter: drop-shadow(0px 1px 2px rgba(0, 0, 0, 0.3));\n",
              "    fill: #FFFFFF;\n",
              "  }\n",
              "</style>\n",
              "\n",
              "    <script>\n",
              "      async function quickchart(key) {\n",
              "        const containerElement = document.querySelector('#' + key);\n",
              "        const charts = await google.colab.kernel.invokeFunction(\n",
              "            'suggestCharts', [key], {});\n",
              "      }\n",
              "    </script>\n",
              "\n",
              "      <script>\n",
              "\n",
              "function displayQuickchartButton(domScope) {\n",
              "  let quickchartButtonEl =\n",
              "    domScope.querySelector('#df-64241db0-6044-464e-bc9f-f8317c387703 button.colab-df-quickchart');\n",
              "  quickchartButtonEl.style.display =\n",
              "    google.colab.kernel.accessAllowed ? 'block' : 'none';\n",
              "}\n",
              "\n",
              "        displayQuickchartButton(document);\n",
              "      </script>\n",
              "      <style>\n",
              "    .colab-df-container {\n",
              "      display:flex;\n",
              "      flex-wrap:wrap;\n",
              "      gap: 12px;\n",
              "    }\n",
              "\n",
              "    .colab-df-convert {\n",
              "      background-color: #E8F0FE;\n",
              "      border: none;\n",
              "      border-radius: 50%;\n",
              "      cursor: pointer;\n",
              "      display: none;\n",
              "      fill: #1967D2;\n",
              "      height: 32px;\n",
              "      padding: 0 0 0 0;\n",
              "      width: 32px;\n",
              "    }\n",
              "\n",
              "    .colab-df-convert:hover {\n",
              "      background-color: #E2EBFA;\n",
              "      box-shadow: 0px 1px 2px rgba(60, 64, 67, 0.3), 0px 1px 3px 1px rgba(60, 64, 67, 0.15);\n",
              "      fill: #174EA6;\n",
              "    }\n",
              "\n",
              "    [theme=dark] .colab-df-convert {\n",
              "      background-color: #3B4455;\n",
              "      fill: #D2E3FC;\n",
              "    }\n",
              "\n",
              "    [theme=dark] .colab-df-convert:hover {\n",
              "      background-color: #434B5C;\n",
              "      box-shadow: 0px 1px 3px 1px rgba(0, 0, 0, 0.15);\n",
              "      filter: drop-shadow(0px 1px 2px rgba(0, 0, 0, 0.3));\n",
              "      fill: #FFFFFF;\n",
              "    }\n",
              "  </style>\n",
              "\n",
              "      <script>\n",
              "        const buttonEl =\n",
              "          document.querySelector('#df-83849ed1-5ddd-4426-a1a6-4fd02d19a597 button.colab-df-convert');\n",
              "        buttonEl.style.display =\n",
              "          google.colab.kernel.accessAllowed ? 'block' : 'none';\n",
              "\n",
              "        async function convertToInteractive(key) {\n",
              "          const element = document.querySelector('#df-83849ed1-5ddd-4426-a1a6-4fd02d19a597');\n",
              "          const dataTable =\n",
              "            await google.colab.kernel.invokeFunction('convertToInteractive',\n",
              "                                                     [key], {});\n",
              "          if (!dataTable) return;\n",
              "\n",
              "          const docLinkHtml = 'Like what you see? Visit the ' +\n",
              "            '<a target=\"_blank\" href=https://colab.research.google.com/notebooks/data_table.ipynb>data table notebook</a>'\n",
              "            + ' to learn more about interactive tables.';\n",
              "          element.innerHTML = '';\n",
              "          dataTable['output_type'] = 'display_data';\n",
              "          await google.colab.output.renderOutput(dataTable, element);\n",
              "          const docLink = document.createElement('div');\n",
              "          docLink.innerHTML = docLinkHtml;\n",
              "          element.appendChild(docLink);\n",
              "        }\n",
              "      </script>\n",
              "    </div>\n",
              "  </div>\n"
            ]
          },
          "metadata": {},
          "execution_count": 38
        }
      ]
    },
    {
      "cell_type": "code",
      "source": [
        "kmeans1 = KMeans(n_clusters = 2)"
      ],
      "metadata": {
        "id": "TuxIINt8Noo1"
      },
      "execution_count": null,
      "outputs": []
    },
    {
      "cell_type": "code",
      "source": [
        "kmeans1.fit(df1)"
      ],
      "metadata": {
        "colab": {
          "base_uri": "https://localhost:8080/",
          "height": 112
        },
        "id": "ioDpELFiNzJa",
        "outputId": "1ba4f1ee-c492-4001-a7f2-d1185e41f516"
      },
      "execution_count": null,
      "outputs": [
        {
          "output_type": "stream",
          "name": "stderr",
          "text": [
            "/usr/local/lib/python3.10/dist-packages/sklearn/cluster/_kmeans.py:870: FutureWarning: The default value of `n_init` will change from 10 to 'auto' in 1.4. Set the value of `n_init` explicitly to suppress the warning\n",
            "  warnings.warn(\n"
          ]
        },
        {
          "output_type": "execute_result",
          "data": {
            "text/plain": [
              "KMeans(n_clusters=2)"
            ],
            "text/html": [
              "<style>#sk-container-id-2 {color: black;background-color: white;}#sk-container-id-2 pre{padding: 0;}#sk-container-id-2 div.sk-toggleable {background-color: white;}#sk-container-id-2 label.sk-toggleable__label {cursor: pointer;display: block;width: 100%;margin-bottom: 0;padding: 0.3em;box-sizing: border-box;text-align: center;}#sk-container-id-2 label.sk-toggleable__label-arrow:before {content: \"▸\";float: left;margin-right: 0.25em;color: #696969;}#sk-container-id-2 label.sk-toggleable__label-arrow:hover:before {color: black;}#sk-container-id-2 div.sk-estimator:hover label.sk-toggleable__label-arrow:before {color: black;}#sk-container-id-2 div.sk-toggleable__content {max-height: 0;max-width: 0;overflow: hidden;text-align: left;background-color: #f0f8ff;}#sk-container-id-2 div.sk-toggleable__content pre {margin: 0.2em;color: black;border-radius: 0.25em;background-color: #f0f8ff;}#sk-container-id-2 input.sk-toggleable__control:checked~div.sk-toggleable__content {max-height: 200px;max-width: 100%;overflow: auto;}#sk-container-id-2 input.sk-toggleable__control:checked~label.sk-toggleable__label-arrow:before {content: \"▾\";}#sk-container-id-2 div.sk-estimator input.sk-toggleable__control:checked~label.sk-toggleable__label {background-color: #d4ebff;}#sk-container-id-2 div.sk-label input.sk-toggleable__control:checked~label.sk-toggleable__label {background-color: #d4ebff;}#sk-container-id-2 input.sk-hidden--visually {border: 0;clip: rect(1px 1px 1px 1px);clip: rect(1px, 1px, 1px, 1px);height: 1px;margin: -1px;overflow: hidden;padding: 0;position: absolute;width: 1px;}#sk-container-id-2 div.sk-estimator {font-family: monospace;background-color: #f0f8ff;border: 1px dotted black;border-radius: 0.25em;box-sizing: border-box;margin-bottom: 0.5em;}#sk-container-id-2 div.sk-estimator:hover {background-color: #d4ebff;}#sk-container-id-2 div.sk-parallel-item::after {content: \"\";width: 100%;border-bottom: 1px solid gray;flex-grow: 1;}#sk-container-id-2 div.sk-label:hover label.sk-toggleable__label {background-color: #d4ebff;}#sk-container-id-2 div.sk-serial::before {content: \"\";position: absolute;border-left: 1px solid gray;box-sizing: border-box;top: 0;bottom: 0;left: 50%;z-index: 0;}#sk-container-id-2 div.sk-serial {display: flex;flex-direction: column;align-items: center;background-color: white;padding-right: 0.2em;padding-left: 0.2em;position: relative;}#sk-container-id-2 div.sk-item {position: relative;z-index: 1;}#sk-container-id-2 div.sk-parallel {display: flex;align-items: stretch;justify-content: center;background-color: white;position: relative;}#sk-container-id-2 div.sk-item::before, #sk-container-id-2 div.sk-parallel-item::before {content: \"\";position: absolute;border-left: 1px solid gray;box-sizing: border-box;top: 0;bottom: 0;left: 50%;z-index: -1;}#sk-container-id-2 div.sk-parallel-item {display: flex;flex-direction: column;z-index: 1;position: relative;background-color: white;}#sk-container-id-2 div.sk-parallel-item:first-child::after {align-self: flex-end;width: 50%;}#sk-container-id-2 div.sk-parallel-item:last-child::after {align-self: flex-start;width: 50%;}#sk-container-id-2 div.sk-parallel-item:only-child::after {width: 0;}#sk-container-id-2 div.sk-dashed-wrapped {border: 1px dashed gray;margin: 0 0.4em 0.5em 0.4em;box-sizing: border-box;padding-bottom: 0.4em;background-color: white;}#sk-container-id-2 div.sk-label label {font-family: monospace;font-weight: bold;display: inline-block;line-height: 1.2em;}#sk-container-id-2 div.sk-label-container {text-align: center;}#sk-container-id-2 div.sk-container {/* jupyter's `normalize.less` sets `[hidden] { display: none; }` but bootstrap.min.css set `[hidden] { display: none !important; }` so we also need the `!important` here to be able to override the default hidden behavior on the sphinx rendered scikit-learn.org. See: https://github.com/scikit-learn/scikit-learn/issues/21755 */display: inline-block !important;position: relative;}#sk-container-id-2 div.sk-text-repr-fallback {display: none;}</style><div id=\"sk-container-id-2\" class=\"sk-top-container\"><div class=\"sk-text-repr-fallback\"><pre>KMeans(n_clusters=2)</pre><b>In a Jupyter environment, please rerun this cell to show the HTML representation or trust the notebook. <br />On GitHub, the HTML representation is unable to render, please try loading this page with nbviewer.org.</b></div><div class=\"sk-container\" hidden><div class=\"sk-item\"><div class=\"sk-estimator sk-toggleable\"><input class=\"sk-toggleable__control sk-hidden--visually\" id=\"sk-estimator-id-2\" type=\"checkbox\" checked><label for=\"sk-estimator-id-2\" class=\"sk-toggleable__label sk-toggleable__label-arrow\">KMeans</label><div class=\"sk-toggleable__content\"><pre>KMeans(n_clusters=2)</pre></div></div></div></div></div>"
            ]
          },
          "metadata": {},
          "execution_count": 40
        }
      ]
    },
    {
      "cell_type": "code",
      "source": [
        "df1['healthy'] = kmeans1.predict(df1)"
      ],
      "metadata": {
        "id": "BukumX_ZOlDY"
      },
      "execution_count": null,
      "outputs": []
    },
    {
      "cell_type": "code",
      "source": [
        "df1"
      ],
      "metadata": {
        "colab": {
          "base_uri": "https://localhost:8080/",
          "height": 363
        },
        "id": "SIZF_UEPOnn3",
        "outputId": "a0774500-c49c-483c-a433-29cafc184a4c"
      },
      "execution_count": null,
      "outputs": [
        {
          "output_type": "execute_result",
          "data": {
            "text/plain": [
              "     height      weight  healthy\n",
              "0  6.690834  149.889985        0\n",
              "1  7.406418  147.387304        0\n",
              "2  7.228214  135.519026        0\n",
              "3  6.961105  140.378886        0\n",
              "4  8.733656  140.351608        0\n",
              "5  7.246813  121.086170        1\n",
              "6  6.885542  137.414816        0\n",
              "7  9.718342  125.093130        1\n",
              "8  9.360999  127.206102        1\n",
              "9  6.700385  149.009868        0"
            ],
            "text/html": [
              "\n",
              "\n",
              "  <div id=\"df-04105994-3ffb-4c5f-a177-c0f621da9d07\">\n",
              "    <div class=\"colab-df-container\">\n",
              "      <div>\n",
              "<style scoped>\n",
              "    .dataframe tbody tr th:only-of-type {\n",
              "        vertical-align: middle;\n",
              "    }\n",
              "\n",
              "    .dataframe tbody tr th {\n",
              "        vertical-align: top;\n",
              "    }\n",
              "\n",
              "    .dataframe thead th {\n",
              "        text-align: right;\n",
              "    }\n",
              "</style>\n",
              "<table border=\"1\" class=\"dataframe\">\n",
              "  <thead>\n",
              "    <tr style=\"text-align: right;\">\n",
              "      <th></th>\n",
              "      <th>height</th>\n",
              "      <th>weight</th>\n",
              "      <th>healthy</th>\n",
              "    </tr>\n",
              "  </thead>\n",
              "  <tbody>\n",
              "    <tr>\n",
              "      <th>0</th>\n",
              "      <td>6.690834</td>\n",
              "      <td>149.889985</td>\n",
              "      <td>0</td>\n",
              "    </tr>\n",
              "    <tr>\n",
              "      <th>1</th>\n",
              "      <td>7.406418</td>\n",
              "      <td>147.387304</td>\n",
              "      <td>0</td>\n",
              "    </tr>\n",
              "    <tr>\n",
              "      <th>2</th>\n",
              "      <td>7.228214</td>\n",
              "      <td>135.519026</td>\n",
              "      <td>0</td>\n",
              "    </tr>\n",
              "    <tr>\n",
              "      <th>3</th>\n",
              "      <td>6.961105</td>\n",
              "      <td>140.378886</td>\n",
              "      <td>0</td>\n",
              "    </tr>\n",
              "    <tr>\n",
              "      <th>4</th>\n",
              "      <td>8.733656</td>\n",
              "      <td>140.351608</td>\n",
              "      <td>0</td>\n",
              "    </tr>\n",
              "    <tr>\n",
              "      <th>5</th>\n",
              "      <td>7.246813</td>\n",
              "      <td>121.086170</td>\n",
              "      <td>1</td>\n",
              "    </tr>\n",
              "    <tr>\n",
              "      <th>6</th>\n",
              "      <td>6.885542</td>\n",
              "      <td>137.414816</td>\n",
              "      <td>0</td>\n",
              "    </tr>\n",
              "    <tr>\n",
              "      <th>7</th>\n",
              "      <td>9.718342</td>\n",
              "      <td>125.093130</td>\n",
              "      <td>1</td>\n",
              "    </tr>\n",
              "    <tr>\n",
              "      <th>8</th>\n",
              "      <td>9.360999</td>\n",
              "      <td>127.206102</td>\n",
              "      <td>1</td>\n",
              "    </tr>\n",
              "    <tr>\n",
              "      <th>9</th>\n",
              "      <td>6.700385</td>\n",
              "      <td>149.009868</td>\n",
              "      <td>0</td>\n",
              "    </tr>\n",
              "  </tbody>\n",
              "</table>\n",
              "</div>\n",
              "      <button class=\"colab-df-convert\" onclick=\"convertToInteractive('df-04105994-3ffb-4c5f-a177-c0f621da9d07')\"\n",
              "              title=\"Convert this dataframe to an interactive table.\"\n",
              "              style=\"display:none;\">\n",
              "\n",
              "  <svg xmlns=\"http://www.w3.org/2000/svg\" height=\"24px\"viewBox=\"0 0 24 24\"\n",
              "       width=\"24px\">\n",
              "    <path d=\"M0 0h24v24H0V0z\" fill=\"none\"/>\n",
              "    <path d=\"M18.56 5.44l.94 2.06.94-2.06 2.06-.94-2.06-.94-.94-2.06-.94 2.06-2.06.94zm-11 1L8.5 8.5l.94-2.06 2.06-.94-2.06-.94L8.5 2.5l-.94 2.06-2.06.94zm10 10l.94 2.06.94-2.06 2.06-.94-2.06-.94-.94-2.06-.94 2.06-2.06.94z\"/><path d=\"M17.41 7.96l-1.37-1.37c-.4-.4-.92-.59-1.43-.59-.52 0-1.04.2-1.43.59L10.3 9.45l-7.72 7.72c-.78.78-.78 2.05 0 2.83L4 21.41c.39.39.9.59 1.41.59.51 0 1.02-.2 1.41-.59l7.78-7.78 2.81-2.81c.8-.78.8-2.07 0-2.86zM5.41 20L4 18.59l7.72-7.72 1.47 1.35L5.41 20z\"/>\n",
              "  </svg>\n",
              "      </button>\n",
              "\n",
              "\n",
              "\n",
              "    <div id=\"df-589abc4a-ae02-4198-9c3d-d6ae1b699d1e\">\n",
              "      <button class=\"colab-df-quickchart\" onclick=\"quickchart('df-589abc4a-ae02-4198-9c3d-d6ae1b699d1e')\"\n",
              "              title=\"Suggest charts.\"\n",
              "              style=\"display:none;\">\n",
              "\n",
              "<svg xmlns=\"http://www.w3.org/2000/svg\" height=\"24px\"viewBox=\"0 0 24 24\"\n",
              "     width=\"24px\">\n",
              "    <g>\n",
              "        <path d=\"M19 3H5c-1.1 0-2 .9-2 2v14c0 1.1.9 2 2 2h14c1.1 0 2-.9 2-2V5c0-1.1-.9-2-2-2zM9 17H7v-7h2v7zm4 0h-2V7h2v10zm4 0h-2v-4h2v4z\"/>\n",
              "    </g>\n",
              "</svg>\n",
              "      </button>\n",
              "    </div>\n",
              "\n",
              "<style>\n",
              "  .colab-df-quickchart {\n",
              "    background-color: #E8F0FE;\n",
              "    border: none;\n",
              "    border-radius: 50%;\n",
              "    cursor: pointer;\n",
              "    display: none;\n",
              "    fill: #1967D2;\n",
              "    height: 32px;\n",
              "    padding: 0 0 0 0;\n",
              "    width: 32px;\n",
              "  }\n",
              "\n",
              "  .colab-df-quickchart:hover {\n",
              "    background-color: #E2EBFA;\n",
              "    box-shadow: 0px 1px 2px rgba(60, 64, 67, 0.3), 0px 1px 3px 1px rgba(60, 64, 67, 0.15);\n",
              "    fill: #174EA6;\n",
              "  }\n",
              "\n",
              "  [theme=dark] .colab-df-quickchart {\n",
              "    background-color: #3B4455;\n",
              "    fill: #D2E3FC;\n",
              "  }\n",
              "\n",
              "  [theme=dark] .colab-df-quickchart:hover {\n",
              "    background-color: #434B5C;\n",
              "    box-shadow: 0px 1px 3px 1px rgba(0, 0, 0, 0.15);\n",
              "    filter: drop-shadow(0px 1px 2px rgba(0, 0, 0, 0.3));\n",
              "    fill: #FFFFFF;\n",
              "  }\n",
              "</style>\n",
              "\n",
              "    <script>\n",
              "      async function quickchart(key) {\n",
              "        const containerElement = document.querySelector('#' + key);\n",
              "        const charts = await google.colab.kernel.invokeFunction(\n",
              "            'suggestCharts', [key], {});\n",
              "      }\n",
              "    </script>\n",
              "\n",
              "      <script>\n",
              "\n",
              "function displayQuickchartButton(domScope) {\n",
              "  let quickchartButtonEl =\n",
              "    domScope.querySelector('#df-589abc4a-ae02-4198-9c3d-d6ae1b699d1e button.colab-df-quickchart');\n",
              "  quickchartButtonEl.style.display =\n",
              "    google.colab.kernel.accessAllowed ? 'block' : 'none';\n",
              "}\n",
              "\n",
              "        displayQuickchartButton(document);\n",
              "      </script>\n",
              "      <style>\n",
              "    .colab-df-container {\n",
              "      display:flex;\n",
              "      flex-wrap:wrap;\n",
              "      gap: 12px;\n",
              "    }\n",
              "\n",
              "    .colab-df-convert {\n",
              "      background-color: #E8F0FE;\n",
              "      border: none;\n",
              "      border-radius: 50%;\n",
              "      cursor: pointer;\n",
              "      display: none;\n",
              "      fill: #1967D2;\n",
              "      height: 32px;\n",
              "      padding: 0 0 0 0;\n",
              "      width: 32px;\n",
              "    }\n",
              "\n",
              "    .colab-df-convert:hover {\n",
              "      background-color: #E2EBFA;\n",
              "      box-shadow: 0px 1px 2px rgba(60, 64, 67, 0.3), 0px 1px 3px 1px rgba(60, 64, 67, 0.15);\n",
              "      fill: #174EA6;\n",
              "    }\n",
              "\n",
              "    [theme=dark] .colab-df-convert {\n",
              "      background-color: #3B4455;\n",
              "      fill: #D2E3FC;\n",
              "    }\n",
              "\n",
              "    [theme=dark] .colab-df-convert:hover {\n",
              "      background-color: #434B5C;\n",
              "      box-shadow: 0px 1px 3px 1px rgba(0, 0, 0, 0.15);\n",
              "      filter: drop-shadow(0px 1px 2px rgba(0, 0, 0, 0.3));\n",
              "      fill: #FFFFFF;\n",
              "    }\n",
              "  </style>\n",
              "\n",
              "      <script>\n",
              "        const buttonEl =\n",
              "          document.querySelector('#df-04105994-3ffb-4c5f-a177-c0f621da9d07 button.colab-df-convert');\n",
              "        buttonEl.style.display =\n",
              "          google.colab.kernel.accessAllowed ? 'block' : 'none';\n",
              "\n",
              "        async function convertToInteractive(key) {\n",
              "          const element = document.querySelector('#df-04105994-3ffb-4c5f-a177-c0f621da9d07');\n",
              "          const dataTable =\n",
              "            await google.colab.kernel.invokeFunction('convertToInteractive',\n",
              "                                                     [key], {});\n",
              "          if (!dataTable) return;\n",
              "\n",
              "          const docLinkHtml = 'Like what you see? Visit the ' +\n",
              "            '<a target=\"_blank\" href=https://colab.research.google.com/notebooks/data_table.ipynb>data table notebook</a>'\n",
              "            + ' to learn more about interactive tables.';\n",
              "          element.innerHTML = '';\n",
              "          dataTable['output_type'] = 'display_data';\n",
              "          await google.colab.output.renderOutput(dataTable, element);\n",
              "          const docLink = document.createElement('div');\n",
              "          docLink.innerHTML = docLinkHtml;\n",
              "          element.appendChild(docLink);\n",
              "        }\n",
              "      </script>\n",
              "    </div>\n",
              "  </div>\n"
            ]
          },
          "metadata": {},
          "execution_count": 42
        }
      ]
    },
    {
      "cell_type": "code",
      "source": [
        "# lets build a naive bayes classifier\n",
        "\n",
        "def m_estimate(m, column, p = None):\n",
        "\n",
        "  unq = column.unique()\n",
        "  if p == None:\n",
        "    p = 1/len(unq)\n",
        "    # print(f'p is {p}')\n",
        "  valCnt = column.value_counts()\n",
        "  tot = []\n",
        "\n",
        "  # print(f'unq elem is {unq}')\n",
        "  for elem in unq:\n",
        "    val = (valCnt[elem] + m * p) / (len(column) + m)\n",
        "    tot.append(val)\n",
        "\n",
        "\n",
        "  return tot\n",
        "\n",
        "\n",
        "x = list(range(1,121))\n",
        "y = [m_estimate(i, df1['healthy']) for i in x]\n",
        "y = np.array(y)\n",
        "\n",
        "plt.scatter(x, y[:, 1])\n",
        "plt.scatter(x, y[:, 0])\n"
      ],
      "metadata": {
        "colab": {
          "base_uri": "https://localhost:8080/",
          "height": 453
        },
        "id": "Bnb8b-BbO2-x",
        "outputId": "dcbed86d-1843-44a4-947a-91bd016a3633"
      },
      "execution_count": null,
      "outputs": [
        {
          "output_type": "execute_result",
          "data": {
            "text/plain": [
              "<matplotlib.collections.PathCollection at 0x7ad2862b2770>"
            ]
          },
          "metadata": {},
          "execution_count": 43
        },
        {
          "output_type": "display_data",
          "data": {
            "text/plain": [
              "<Figure size 640x480 with 1 Axes>"
            ],
            "image/png": "[encoded data removed]"
          },
          "metadata": {}
        }
      ]
    },
    {
      "cell_type": "code",
      "source": [
        "# as we increase m in the above plot we approach the prior distribution with is 0.5\n"
      ],
      "metadata": {
        "id": "y8tKYnV5Q3hP"
      },
      "execution_count": null,
      "outputs": []
    },
    {
      "cell_type": "code",
      "source": [
        "def Dijkstra(V, W, s):\n",
        "  dist = {}\n",
        "  for vert in V:\n",
        "    dist[vert] = 9999\n",
        "\n",
        "  dist[s] = 0\n",
        "\n",
        "  while len(vert) != 0:\n",
        "    closest = getminmumdist(V, dist)\n",
        "    V.remove(closest)\n",
        "    for neighbor in getNeighbors(closest):\n",
        "      if dist[neighbor] > dist[closest] + W[closest][neighbor]:\n",
        "        dist[neighbor] = dist[closest] + W[closest][neighbor]\n",
        "\n",
        "  return dist\n"
      ],
      "metadata": {
        "id": "_bhDrQTtQe5d"
      },
      "execution_count": null,
      "outputs": []
    },
    {
      "cell_type": "code",
      "source": [
        "def prims_algorithm():\n",
        "  vertices = None\n",
        "  Weights = None\n",
        "  visited = None\n",
        "\n",
        "  for vertex in vertices:\n",
        "    if vertex not in visited:\n",
        "      pass\n",
        "\n",
        "  return\n",
        "\n"
      ],
      "metadata": {
        "id": "EctiQtDzwdtK"
      },
      "execution_count": null,
      "outputs": []
    },
    {
      "cell_type": "code",
      "source": [
        "def my_prim():\n",
        "  vertices = None\n",
        "  Weights = None\n",
        "  visited = None\n",
        "  edges = None\n",
        "  for edge in edges:\n",
        "    return\n",
        "\n"
      ],
      "metadata": {
        "id": "JYGoA8gw7u9B"
      },
      "execution_count": null,
      "outputs": []
    },
    {
      "cell_type": "code",
      "source": [
        "def rad_sort(list1):\n",
        "  print('started')\n",
        "\n",
        "  max_num = len(str(max(list1)))\n",
        "\n",
        "  print(max_num)\n",
        "\n",
        "  # matrix = [[] for i in range(10)]\n",
        "\n",
        "  fix = lambda x: '0' * (max_num - len(str(x))) + str(x)\n",
        "\n",
        "  print('created fix')\n",
        "\n",
        "  list2 = [fix(x) for x in list1]\n",
        "\n",
        "\n",
        "  print(list2)\n",
        "\n",
        "rad_sort([11,24,322,23324234234])\n"
      ],
      "metadata": {
        "colab": {
          "base_uri": "https://localhost:8080/"
        },
        "id": "wOLyO-2Q73ja",
        "outputId": "e30fe427-46ab-450c-b30e-55f4dd9d4bf1"
      },
      "execution_count": null,
      "outputs": [
        {
          "output_type": "stream",
          "name": "stdout",
          "text": [
            "started\n",
            "11\n",
            "created fix\n",
            "['00000000011', '00000000024', '00000000322', '23324234234']\n"
          ]
        }
      ]
    },
    {
      "cell_type": "code",
      "source": [
        "def r_s(list1):\n",
        "  max_num = 5\n",
        "  fix = lambda x: '0' * (max_num - len(str(x))) + str(x)\n",
        "  list2 = [fix(x) for x in list1]\n",
        "  print(list2)\n",
        "\n",
        "list1 = [11,24,322,23324234234]\n",
        "r_s(list1)\n"
      ],
      "metadata": {
        "colab": {
          "base_uri": "https://localhost:8080/"
        },
        "id": "-sf4oBuuA_s8",
        "outputId": "339e1695-d66a-403c-b37d-98cd09797e8c"
      },
      "execution_count": null,
      "outputs": [
        {
          "output_type": "stream",
          "name": "stdout",
          "text": [
            "['00011', '00024', '00322', '23324234234']\n"
          ]
        }
      ]
    },
    {
      "cell_type": "code",
      "source": [
        "def r_sort(list1):\n",
        "\n",
        "  max_deg = len(str(max(list1)))\n",
        "  nth = lambda x, n: (x % (10 ** n))//(10 ** (n-1))\n",
        "  unpack = lambda list1: [x for sub in list1 for x in sub]\n",
        "  sort_matrix = [[] for i in range(10)]\n",
        "\n",
        "  nums = list1[:]\n",
        "\n",
        "  for deg in range(1, max_deg + 1):\n",
        "\n",
        "    mat = [[] for i in range(10)]\n",
        "    for num in nums:\n",
        "\n",
        "      idx = nth(num, deg)\n",
        "      mat[idx].append(num)\n",
        "\n",
        "    nums = unpack(mat)\n",
        "    print(mat)\n",
        "    print(nums)\n",
        "\n",
        "  return nums\n",
        "\n",
        "\n",
        "r_sort([977,8,2,0,45, 4,67])\n",
        "\n",
        "\n",
        "\n",
        "\n",
        "\n"
      ],
      "metadata": {
        "id": "97AsuB5GBW7n",
        "colab": {
          "base_uri": "https://localhost:8080/"
        },
        "outputId": "1131a339-2967-46fb-8aa5-011ee4c72dcb"
      },
      "execution_count": null,
      "outputs": [
        {
          "output_type": "stream",
          "name": "stdout",
          "text": [
            "[[0], [], [2], [], [4], [45], [], [977, 67], [8], []]\n",
            "[0, 2, 4, 45, 977, 67, 8]\n",
            "[[0, 2, 4, 8], [], [], [], [45], [], [67], [977], [], []]\n",
            "[0, 2, 4, 8, 45, 67, 977]\n",
            "[[0, 2, 4, 8, 45, 67], [], [], [], [], [], [], [], [], [977]]\n",
            "[0, 2, 4, 8, 45, 67, 977]\n"
          ]
        },
        {
          "output_type": "execute_result",
          "data": {
            "text/plain": [
              "[0, 2, 4, 8, 45, 67, 977]"
            ]
          },
          "metadata": {},
          "execution_count": 50
        }
      ]
    },
    {
      "cell_type": "code",
      "source": [
        "nth = lambda x, n: (x % (10 ** n))//(10 ** (n-1))\n",
        "nth(5341948, 3)"
      ],
      "metadata": {
        "id": "aEy9Y_n1Bg-5",
        "colab": {
          "base_uri": "https://localhost:8080/"
        },
        "outputId": "ebf24c3e-f4c7-4563-bb26-83cd203d80be"
      },
      "execution_count": null,
      "outputs": [
        {
          "output_type": "execute_result",
          "data": {
            "text/plain": [
              "9"
            ]
          },
          "metadata": {},
          "execution_count": 51
        }
      ]
    },
    {
      "cell_type": "code",
      "source": [
        "unpack = lambda list1: [x for sub in list1 for x in sub]\n",
        "unpack([[2,3,4],[5,3,2]])"
      ],
      "metadata": {
        "id": "IPk9t7kTENFH",
        "colab": {
          "base_uri": "https://localhost:8080/"
        },
        "outputId": "bad6dc36-21b7-420b-fd26-234878e92cd8"
      },
      "execution_count": null,
      "outputs": [
        {
          "output_type": "execute_result",
          "data": {
            "text/plain": [
              "[2, 3, 4, 5, 3, 2]"
            ]
          },
          "metadata": {},
          "execution_count": 52
        }
      ]
    },
    {
      "cell_type": "code",
      "source": [
        "def radix_sort(input_list):\n",
        "    \"\"\"Radix sort function to sort a list of non-negative integers\"\"\"\n",
        "\n",
        "    # Function to get the nth digit of a number\n",
        "    get_digit = lambda num, digit_pos: (num % (10 ** digit_pos))//(10 ** (digit_pos - 1))\n",
        "\n",
        "    # Determine the maximum number of digits among the numbers in the list\n",
        "    max_digit_count = len(str(max(input_list)))\n",
        "\n",
        "    # Make a copy of the input list\n",
        "    numbers = input_list[:]\n",
        "\n",
        "    # For each digit position, sort numbers using counting sort\n",
        "    for digit_pos in range(1, max_digit_count + 1):\n",
        "\n",
        "        # Initialize buckets for each possible digit (0-9)\n",
        "        buckets = [[] for _ in range(10)]\n",
        "\n",
        "        # Place each number in the bucket corresponding to its digit at digit_pos\n",
        "        for num in numbers:\n",
        "            digit = get_digit(num, digit_pos)\n",
        "            buckets[digit].append(num)\n",
        "\n",
        "        # Collect numbers from the buckets\n",
        "        numbers = [num for bucket in buckets for num in bucket]\n",
        "\n",
        "    return numbers\n",
        "\n",
        "print(radix_sort([977, 8, 2, 0, 45, 4, 67]))\n"
      ],
      "metadata": {
        "id": "CXkoeS8kFmA3",
        "colab": {
          "base_uri": "https://localhost:8080/"
        },
        "outputId": "fed8136b-6f21-490a-cd35-2ad5654a4569"
      },
      "execution_count": null,
      "outputs": [
        {
          "output_type": "stream",
          "name": "stdout",
          "text": [
            "[0, 2, 4, 8, 45, 67, 977]\n"
          ]
        }
      ]
    },
    {
      "cell_type": "code",
      "source": [
        "def radix_sort(input_list):\n",
        "\n",
        "    def get_digit(num, digit_pos):\n",
        "        return (num % (10 ** digit_pos)) // (10 ** (digit_pos - 1))\n",
        "\n",
        "    max_digit_count = len(str(max(input_list)))\n",
        "    numbers = input_list[:]\n",
        "\n",
        "    for digit_pos in range(1, max_digit_count + 1):\n",
        "\n",
        "        buckets = [[] for _ in range(10)]\n",
        "\n",
        "        for num in numbers:\n",
        "            digit = get_digit(num, digit_pos)\n",
        "            buckets[digit].append(num)\n",
        "\n",
        "        numbers = [num for bucket in buckets for num in bucket]\n",
        "\n",
        "    return numbers\n",
        "\n",
        "print(radix_sort([977,8,2,0,45, 4,67]))\n"
      ],
      "metadata": {
        "id": "KDBMk-UmHzLq",
        "colab": {
          "base_uri": "https://localhost:8080/"
        },
        "outputId": "9b8bfbc6-a8e2-4d5e-a7b9-e65f36c3d794"
      },
      "execution_count": null,
      "outputs": [
        {
          "output_type": "stream",
          "name": "stdout",
          "text": [
            "[0, 2, 4, 8, 45, 67, 977]\n"
          ]
        }
      ]
    },
    {
      "cell_type": "code",
      "source": [
        "def weight_radix_sort(input_list):\n",
        "\n",
        "    # assume the input_list is made up of three components (w, x, y)\n",
        "    # sort by radix using the first one\n",
        "\n",
        "    def get_digit(num, digit_pos):\n",
        "        return (num % (10 ** digit_pos)) // (10 ** (digit_pos - 1))\n",
        "\n",
        "    input_weight = [x[0] for x in input_list]\n",
        "    max_digit_count = len(str(max(input_weight)))\n",
        "    numbers = input_list[:]\n",
        "\n",
        "    for digit_pos in range(1, max_digit_count + 1):\n",
        "\n",
        "        buckets = [[] for _ in range(10)]\n",
        "\n",
        "        for i in range(len(numbers)):\n",
        "            num = numbers[i]\n",
        "            digit = get_digit(num, digit_pos)\n",
        "            buckets[digit].append(num)\n",
        "\n",
        "        numbers = [num for bucket in buckets for num in bucket]\n",
        "\n",
        "    return numbers"
      ],
      "metadata": {
        "id": "FyFN9gvgclFH"
      },
      "execution_count": null,
      "outputs": []
    },
    {
      "cell_type": "code",
      "source": [
        "def prims(edges, vertices, start):\n",
        "\n",
        "  # let the edges be given as a dictionary of {(x, y): weight}\n",
        "  # vertices be a list [x, y ...]\n",
        "  connection = {} # whether the a vertex is connected with another through the minimum spanning tree\n",
        "  for vertex in vertices:\n",
        "    connection[vertex] = {}\n",
        "\n",
        "  def weight(x, y):\n",
        "    if x in connection[y]:\n",
        "      return connection[y][x]\n",
        "    else:\n",
        "      return -1\n",
        "\n",
        "\n",
        "\n",
        "\n",
        "\n",
        "\n",
        "\n",
        "\n",
        "\n",
        "\n",
        "\n"
      ],
      "metadata": {
        "id": "qHveS2vsIPwA"
      },
      "execution_count": null,
      "outputs": []
    },
    {
      "cell_type": "code",
      "source": [
        "import pandas as pd\n",
        "import numpy as np\n",
        "import matplotlib.pyplot as plt\n",
        "import seaborn as sns\n",
        "\n",
        "from sklearn.preprocessing import label_binarize\n",
        "from sklearn.model_selection import train_test_split, GridSearchCV\n",
        "from sklearn.svm import SVC\n",
        "from sklearn.metrics import confusion_matrix, roc_curve, auc"
      ],
      "metadata": {
        "id": "5Ge3GqMbavoa"
      },
      "execution_count": null,
      "outputs": []
    },
    {
      "cell_type": "code",
      "source": [
        "def plot_svc(title, svc, X, y, h=0.02, pad=0.25):\n",
        "  x_min, x_max = X[:, 0].min()-pad, X[:,0].max()+pad\n",
        "  y_min, y_max = X[:, 1].min()-pad, X[:, 1].max()+pad\n",
        "  xx, yy = np.meshgrid(np.arange(x_min, x_max, h), np.arange(y_min, y_max, h))\n",
        "  Z = svc.predict(np.c_[xx.ravel(), yy.ravel()])"
      ],
      "metadata": {
        "id": "kXfFW38uav9V"
      },
      "execution_count": null,
      "outputs": []
    },
    {
      "cell_type": "code",
      "source": [
        "a = np.array([[1,2,3],[4,5,6]])"
      ],
      "metadata": {
        "id": "7T5-XZ5tD9I7"
      },
      "execution_count": null,
      "outputs": []
    },
    {
      "cell_type": "code",
      "source": [
        "a.sum(axis = 0)"
      ],
      "metadata": {
        "colab": {
          "base_uri": "https://localhost:8080/"
        },
        "id": "HsJyqsmUEQYB",
        "outputId": "16fd5be8-a374-4cae-a5bd-70aab2add3da"
      },
      "execution_count": null,
      "outputs": [
        {
          "output_type": "execute_result",
          "data": {
            "text/plain": [
              "array([5, 7, 9])"
            ]
          },
          "metadata": {},
          "execution_count": 60
        }
      ]
    },
    {
      "cell_type": "code",
      "source": [
        "a.sum(axis = 1)"
      ],
      "metadata": {
        "colab": {
          "base_uri": "https://localhost:8080/"
        },
        "id": "uY72w3XcERyM",
        "outputId": "e80fc035-252f-4b2b-dc08-3f0311d09e24"
      },
      "execution_count": null,
      "outputs": [
        {
          "output_type": "execute_result",
          "data": {
            "text/plain": [
              "array([ 6, 15])"
            ]
          },
          "metadata": {},
          "execution_count": 61
        }
      ]
    },
    {
      "cell_type": "code",
      "source": [
        "b = np.array([[4,5,1],[0,-1,2]])"
      ],
      "metadata": {
        "id": "kkOWAFeDETVg"
      },
      "execution_count": null,
      "outputs": []
    },
    {
      "cell_type": "code",
      "source": [
        "np.vstack((a, b))"
      ],
      "metadata": {
        "id": "oxryblP-Epvw",
        "outputId": "80a04844-1f95-4ffd-b065-f0d019a64dd7",
        "colab": {
          "base_uri": "https://localhost:8080/"
        }
      },
      "execution_count": null,
      "outputs": [
        {
          "output_type": "execute_result",
          "data": {
            "text/plain": [
              "array([[ 1,  2,  3],\n",
              "       [ 4,  5,  6],\n",
              "       [ 4,  5,  1],\n",
              "       [ 0, -1,  2]])"
            ]
          },
          "metadata": {},
          "execution_count": 63
        }
      ]
    },
    {
      "cell_type": "code",
      "source": [
        "import torch.nn as nn\n",
        "import torch\n",
        "\n",
        "Encoder = None\n",
        "Aggregator = None\n",
        "ClassificationHead = None\n",
        "\n",
        "\n",
        "class CPCClassifier(nn.Module):\n",
        "  def __init__(self, input_channels=3, z_dim=256, enc_blocks=4, kernel_sizes = [8,4,2,1], strides = [4,2,1,1], agg_blocks = 4, pooling='mean', num_cls = 10, mlp = False):\n",
        "    super(CPCClassifier, self).__init__()\n",
        "    self.encoder = Encoder(input_channels, z_dim, enc_blocks, kernel_sizes, strides)\n",
        "    self.aggregator = Aggregator(agg_blocks, z_dim)\n",
        "    self.pooling = pooling\n",
        "    self.classifier = ClassificationHead(z_dim, z_dim, num_cls, mlp)\n",
        "\n",
        "  def forward(self, x):\n",
        "    x = self.encoder(x)\n",
        "    x = self.aggregator(x)\n",
        "    if self.pooling == \"mean\":\n",
        "      c = torch.mean(x, dim=2)\n",
        "    elif self.pooling == \"sum\":\n",
        "      c = torch.sum(x, dim=2)\n",
        "    elif self.pooling == \"max\":\n",
        "      c = torch.max(x, dim=2)\n",
        "    else:\n",
        "      raise ValueError(\"Invalid pooling mode, please chose from 'mean', 'max' or 'sum'.\")\n",
        "    pred = self.classifier(c)\n",
        "    return pred"
      ],
      "metadata": {
        "id": "0n7vNJqOErNh"
      },
      "execution_count": null,
      "outputs": []
    },
    {
      "cell_type": "code",
      "source": [
        "# the transformer has three components\n",
        "# encoder, decoder, fully connected layer\n",
        "\n",
        "def scaled_dot_product_attention(k, v, q):\n",
        "\n",
        "  qk = np.dot(q, k.T)\n",
        "  dim = qk.shape[-1]\n",
        "\n",
        "  scaled = qk/np.sqrt(dim)\n",
        "\n",
        "  att = np.dot(scaled, v)\n",
        "\n",
        "  soft = np.exp(att)/np.sum(np.exp(att))\n",
        "\n",
        "  return soft"
      ],
      "metadata": {
        "id": "dETpu3iGUIPe"
      },
      "execution_count": null,
      "outputs": []
    },
    {
      "cell_type": "code",
      "source": [
        "def multi_head_attention(q, k, v, num_heads):\n",
        "    # Split q, k, v into multiple heads\n",
        "    q = np.split(q, num_heads, axis=-1)\n",
        "    k = np.split(k, num_heads, axis=-1)\n",
        "    v = np.split(v, num_heads, axis=-1)\n",
        "\n",
        "    heads = []\n",
        "    for i in range(num_heads):\n",
        "        # Apply scaled dot product attention to each head\n",
        "        head = scaled_dot_product_attention(q[i], k[i], v[i])\n",
        "        heads.append(head)\n",
        "\n",
        "    # Concatenate all the heads' outputs\n",
        "    output = np.concatenate(heads, axis=-1)\n",
        "\n",
        "    return output\n"
      ],
      "metadata": {
        "id": "XWlB0LHZ9WQ2"
      },
      "execution_count": null,
      "outputs": []
    },
    {
      "cell_type": "code",
      "source": [],
      "metadata": {
        "id": "v3GTy-E09dfH"
      },
      "execution_count": null,
      "outputs": []
    },
    {
      "cell_type": "code",
      "source": [],
      "metadata": {
        "id": "dtz2Jkh89oL-"
      },
      "execution_count": null,
      "outputs": []
    },
    {
      "cell_type": "code",
      "source": [
        "a = np.arange(24)\n",
        "a = a.reshape(2,3,4)"
      ],
      "metadata": {
        "id": "zPHHmDnK9oPu"
      },
      "execution_count": null,
      "outputs": []
    },
    {
      "cell_type": "code",
      "source": [
        "a"
      ],
      "metadata": {
        "colab": {
          "base_uri": "https://localhost:8080/"
        },
        "id": "5F-kk4Z39oVj",
        "outputId": "4c25ac66-73c7-470d-ed86-cd8380dec50a"
      },
      "execution_count": null,
      "outputs": [
        {
          "output_type": "execute_result",
          "data": {
            "text/plain": [
              "array([[[ 0,  1,  2,  3],\n",
              "        [ 4,  5,  6,  7],\n",
              "        [ 8,  9, 10, 11]],\n",
              "\n",
              "       [[12, 13, 14, 15],\n",
              "        [16, 17, 18, 19],\n",
              "        [20, 21, 22, 23]]])"
            ]
          },
          "metadata": {},
          "execution_count": 68
        }
      ]
    },
    {
      "cell_type": "code",
      "source": [
        "np.split(a, 2, axis = 0)"
      ],
      "metadata": {
        "colab": {
          "base_uri": "https://localhost:8080/"
        },
        "id": "vreWDIS79oYz",
        "outputId": "34c48dd4-d1a2-49a0-c857-73a40804719c"
      },
      "execution_count": null,
      "outputs": [
        {
          "output_type": "execute_result",
          "data": {
            "text/plain": [
              "[array([[[ 0,  1,  2,  3],\n",
              "         [ 4,  5,  6,  7],\n",
              "         [ 8,  9, 10, 11]]]),\n",
              " array([[[12, 13, 14, 15],\n",
              "         [16, 17, 18, 19],\n",
              "         [20, 21, 22, 23]]])]"
            ]
          },
          "metadata": {},
          "execution_count": 69
        }
      ]
    },
    {
      "cell_type": "code",
      "source": [
        "from torch.nn import TransformerEncoder, TransformerEncoderLayer\n",
        "class TransformerModel(nn.Module):\n",
        "  def __init__(self, ntoken: int, d_model: int, nhead: int, d_hid: int, nlayers: int, dropout: float = 0.5):\n",
        "    super().__init__()\n",
        "    self.model_type = 'Transformer'\n",
        "    self.pos_encoder = PositionalEncoding(d_model, dropout)\n",
        "    self.transformer_encoder = TransformerEncoder(encoder_layers, nlayers)\n",
        "    self.embedding = nn.Embedding(ntoken, d_model)\n",
        "    self.d_model = d_model\n",
        "    self.linear = nn.Linear(d_model, ntoken)\n",
        "\n",
        "    self.init_weights()"
      ],
      "metadata": {
        "id": "NkUFcMCr9obX"
      },
      "execution_count": null,
      "outputs": []
    },
    {
      "cell_type": "code",
      "source": [],
      "metadata": {
        "id": "Nnt4DxCJ9oe-"
      },
      "execution_count": null,
      "outputs": []
    },
    {
      "cell_type": "code",
      "source": [],
      "metadata": {
        "id": "RLski8XV9okm"
      },
      "execution_count": null,
      "outputs": []
    },
    {
      "cell_type": "code",
      "source": [
        "class PreprocessHHAR:\n",
        "# lets define a function  that takes the original csv dataset as a dataframe and divides it in to the preassigned window size\n",
        "# it returns a class label, domain lable and features for each window\n",
        "  def split_window(self, df):\n",
        "\n",
        "    features = []\n",
        "    class_labels = []\n",
        "    domain_labels = []\n",
        "\n",
        "    print('splitting windows ...')\n",
        "\n",
        "    for idx in tqdm(range(max(len(self.df)//self.OVERLAPPING_WIN_LEN - 1 , 0))):\n",
        "\n",
        "      # For each window we are going to assign the model, user and activity/ground truth as the first instance in the window\n",
        "      # first index as f_idx\n",
        "\n",
        "      f_idx = idx * self.OVERLAPPING_WIN_LEN\n",
        "\n",
        "      user = df.iloc[f_idx,  9] # 9 is the column index is the user\n",
        "      model = df.iloc[f_idx, 10]\n",
        "      gt = df.iloc[f_idx, 12]\n",
        "\n",
        "      user = self.class_to_number('user', user)\n",
        "      model = self.class_to_number('model', model)\n",
        "      gt = self.class_to_number('gt', gt)\n",
        "\n",
        "      if self.class_type = 'user':\n",
        "        class_label = user\n",
        "        domain = (model, gt)\n",
        "\n",
        "      elif self.class_type = 'model':\n",
        "        class_label = model\n",
        "        domain = (user, gt)\n",
        "\n",
        "      elif self.class_type = 'gt':\n",
        "        class_label = gt\n",
        "        domain = (model, user)\n",
        "\n",
        "      # for feature we take a full window length, from 3:6 is the accelormeter\n",
        "      feature = df.iloc[idx * self.OVERLAPPING_WIN_LEN: (idx + 2) * self.OVERLAPPING_WIN_LEN, 3:6 ].values\n",
        "      feature = feature.T\n",
        "\n",
        "      features.append(feature)\n",
        "      class_labels.append(class_label)\n",
        "      domain_labels.append(domain)\n",
        "\n",
        "    return (features, class_labels, domain_labels)\n",
        "\n",
        "\n",
        "    def split_source_target(self, data):\n",
        "      features, class_labels, domain_labels = data\n",
        "\n",
        "\n",
        "\n",
        "\n",
        "    def class_to_number(self, class_type, label):\n",
        "      # this function changes a given class, to index of the class in the metadata dictionary\n",
        "\n",
        "      classes = self.meta_data[class_type]\n",
        "      dic = {v: i for i, v in enumerate(classes)}\n",
        "\n",
        "      if label in dic.keys():\n",
        "        return dic[label]\n",
        "\n",
        "      else:\n",
        "        print(label)\n",
        "        assert 0, f'no such label in class info'\n",
        "        return -1\n",
        "\n",
        "\n",
        "\n",
        "    def process(self, pretrain_dir='', finetune_dir = ''):\n",
        "      # this functions uses self.save to store features, class_labels,domain_labels, finetune_target_val_path\n",
        "      pass\n",
        "\n",
        "\n",
        "\n",
        "\n",
        "\n"
      ],
      "metadata": {
        "id": "Xdxh86SC9oqu",
        "colab": {
          "base_uri": "https://localhost:8080/",
          "height": 130
        },
        "outputId": "b78585fe-796e-43c5-f051-d94a11dc11d1"
      },
      "execution_count": null,
      "outputs": [
        {
          "output_type": "error",
          "ename": "SyntaxError",
          "evalue": "ignored",
          "traceback": [
            "\u001b[0;36m  File \u001b[0;32m\"<ipython-input-1-30111f371c5c>\"\u001b[0;36m, line \u001b[0;32m27\u001b[0m\n\u001b[0;31m    if self.class_type = 'user':\u001b[0m\n\u001b[0m       ^\u001b[0m\n\u001b[0;31mSyntaxError\u001b[0m\u001b[0;31m:\u001b[0m cannot assign to attribute here. Maybe you meant '==' instead of '='?\n"
          ]
        }
      ]
    },
    {
      "cell_type": "code",
      "source": [
        "\n"
      ],
      "metadata": {
        "id": "yUkU0IFu9o5B"
      },
      "execution_count": null,
      "outputs": []
    },
    {
      "cell_type": "code",
      "source": [],
      "metadata": {
        "id": "F3GJvmjv9o7u"
      },
      "execution_count": null,
      "outputs": []
    },
    {
      "cell_type": "code",
      "source": [],
      "metadata": {
        "id": "sdPjARNY9o_k"
      },
      "execution_count": null,
      "outputs": []
    }
  ]
}